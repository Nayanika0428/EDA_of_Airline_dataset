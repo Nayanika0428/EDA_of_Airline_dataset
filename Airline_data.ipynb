{
 "cells": [
  {
   "cell_type": "code",
   "execution_count": 107,
   "id": "b407e934-5fec-4ed3-941c-0b3fc8c5b60c",
   "metadata": {},
   "outputs": [],
   "source": [
    "import pandas as pd\n",
    "import numpy as np\n",
    "import re"
   ]
  },
  {
   "cell_type": "code",
   "execution_count": 5,
   "id": "8befdc84-7812-47c1-a5a7-b1efdbb5a523",
   "metadata": {},
   "outputs": [],
   "source": [
    "df = pd.read_csv(\"D:/Project_DA/EDA_of_Airline_dataset/Dataset/airlines_data_csv.csv\")"
   ]
  },
  {
   "cell_type": "code",
   "execution_count": 6,
   "id": "c8728135-2db7-4f87-9af1-5c8cb0b5587d",
   "metadata": {},
   "outputs": [
    {
     "data": {
      "text/html": [
       "<div>\n",
       "<style scoped>\n",
       "    .dataframe tbody tr th:only-of-type {\n",
       "        vertical-align: middle;\n",
       "    }\n",
       "\n",
       "    .dataframe tbody tr th {\n",
       "        vertical-align: top;\n",
       "    }\n",
       "\n",
       "    .dataframe thead th {\n",
       "        text-align: right;\n",
       "    }\n",
       "</style>\n",
       "<table border=\"1\" class=\"dataframe\">\n",
       "  <thead>\n",
       "    <tr style=\"text-align: right;\">\n",
       "      <th></th>\n",
       "      <th>Airline</th>\n",
       "      <th>Date_of_Journey</th>\n",
       "      <th>Source</th>\n",
       "      <th>Destination</th>\n",
       "      <th>Route</th>\n",
       "      <th>Dep_Time</th>\n",
       "      <th>Arrival_Time</th>\n",
       "      <th>Duration</th>\n",
       "      <th>Total_Stops</th>\n",
       "      <th>Additional_Info</th>\n",
       "      <th>Price</th>\n",
       "    </tr>\n",
       "  </thead>\n",
       "  <tbody>\n",
       "    <tr>\n",
       "      <th>0</th>\n",
       "      <td>IndiGo</td>\n",
       "      <td>24/03/2019</td>\n",
       "      <td>Banglore</td>\n",
       "      <td>New Delhi</td>\n",
       "      <td>BLR ? DEL</td>\n",
       "      <td>22:20</td>\n",
       "      <td>01:10 22 Mar</td>\n",
       "      <td>2h 50m</td>\n",
       "      <td>non-stop</td>\n",
       "      <td>No info</td>\n",
       "      <td>3897</td>\n",
       "    </tr>\n",
       "    <tr>\n",
       "      <th>1</th>\n",
       "      <td>Air India</td>\n",
       "      <td>1/05/2019</td>\n",
       "      <td>Kolkata</td>\n",
       "      <td>Banglore</td>\n",
       "      <td>CCU ? IXR ? BBI ? BLR</td>\n",
       "      <td>05:50</td>\n",
       "      <td>13:15</td>\n",
       "      <td>7h 25m</td>\n",
       "      <td>2 stops</td>\n",
       "      <td>No info</td>\n",
       "      <td>7662</td>\n",
       "    </tr>\n",
       "    <tr>\n",
       "      <th>2</th>\n",
       "      <td>Jet Airways</td>\n",
       "      <td>9/06/2019</td>\n",
       "      <td>Delhi</td>\n",
       "      <td>Cochin</td>\n",
       "      <td>DEL ? LKO ? BOM ? COK</td>\n",
       "      <td>09:25</td>\n",
       "      <td>04:25 10 Jun</td>\n",
       "      <td>19h</td>\n",
       "      <td>2 stops</td>\n",
       "      <td>No info</td>\n",
       "      <td>13882</td>\n",
       "    </tr>\n",
       "    <tr>\n",
       "      <th>3</th>\n",
       "      <td>IndiGo</td>\n",
       "      <td>12/05/2019</td>\n",
       "      <td>Kolkata</td>\n",
       "      <td>Banglore</td>\n",
       "      <td>CCU ? NAG ? BLR</td>\n",
       "      <td>18:05</td>\n",
       "      <td>23:30</td>\n",
       "      <td>5h 25m</td>\n",
       "      <td>1 stop</td>\n",
       "      <td>No info</td>\n",
       "      <td>6218</td>\n",
       "    </tr>\n",
       "    <tr>\n",
       "      <th>4</th>\n",
       "      <td>IndiGo</td>\n",
       "      <td>01/03/2019</td>\n",
       "      <td>Banglore</td>\n",
       "      <td>New Delhi</td>\n",
       "      <td>BLR ? NAG ? DEL</td>\n",
       "      <td>16:50</td>\n",
       "      <td>21:35</td>\n",
       "      <td>4h 45m</td>\n",
       "      <td>1 stop</td>\n",
       "      <td>No info</td>\n",
       "      <td>13302</td>\n",
       "    </tr>\n",
       "  </tbody>\n",
       "</table>\n",
       "</div>"
      ],
      "text/plain": [
       "       Airline Date_of_Journey    Source Destination                  Route  \\\n",
       "0       IndiGo      24/03/2019  Banglore   New Delhi              BLR ? DEL   \n",
       "1    Air India       1/05/2019   Kolkata    Banglore  CCU ? IXR ? BBI ? BLR   \n",
       "2  Jet Airways       9/06/2019     Delhi      Cochin  DEL ? LKO ? BOM ? COK   \n",
       "3       IndiGo      12/05/2019   Kolkata    Banglore        CCU ? NAG ? BLR   \n",
       "4       IndiGo      01/03/2019  Banglore   New Delhi        BLR ? NAG ? DEL   \n",
       "\n",
       "  Dep_Time  Arrival_Time Duration Total_Stops Additional_Info  Price  \n",
       "0    22:20  01:10 22 Mar   2h 50m    non-stop         No info   3897  \n",
       "1    05:50         13:15   7h 25m     2 stops         No info   7662  \n",
       "2    09:25  04:25 10 Jun      19h     2 stops         No info  13882  \n",
       "3    18:05         23:30   5h 25m      1 stop         No info   6218  \n",
       "4    16:50         21:35   4h 45m      1 stop         No info  13302  "
      ]
     },
     "execution_count": 6,
     "metadata": {},
     "output_type": "execute_result"
    }
   ],
   "source": [
    "df.head()"
   ]
  },
  {
   "cell_type": "code",
   "execution_count": 8,
   "id": "935501af-cd14-4448-b3b2-ed8c9f0d64ea",
   "metadata": {},
   "outputs": [
    {
     "data": {
      "text/plain": [
       "(10683, 11)"
      ]
     },
     "execution_count": 8,
     "metadata": {},
     "output_type": "execute_result"
    }
   ],
   "source": [
    "df.shape"
   ]
  },
  {
   "cell_type": "code",
   "execution_count": 10,
   "id": "769a366b-bc68-431c-b376-b25639a8dca3",
   "metadata": {},
   "outputs": [
    {
     "name": "stdout",
     "output_type": "stream",
     "text": [
      "<class 'pandas.core.frame.DataFrame'>\n",
      "RangeIndex: 10683 entries, 0 to 10682\n",
      "Data columns (total 11 columns):\n",
      " #   Column           Non-Null Count  Dtype \n",
      "---  ------           --------------  ----- \n",
      " 0   Airline          10683 non-null  object\n",
      " 1   Date_of_Journey  10683 non-null  object\n",
      " 2   Source           10683 non-null  object\n",
      " 3   Destination      10683 non-null  object\n",
      " 4   Route            10682 non-null  object\n",
      " 5   Dep_Time         10683 non-null  object\n",
      " 6   Arrival_Time     10683 non-null  object\n",
      " 7   Duration         10683 non-null  object\n",
      " 8   Total_Stops      10682 non-null  object\n",
      " 9   Additional_Info  10683 non-null  object\n",
      " 10  Price            10683 non-null  int64 \n",
      "dtypes: int64(1), object(10)\n",
      "memory usage: 918.2+ KB\n"
     ]
    }
   ],
   "source": [
    "df.info()"
   ]
  },
  {
   "cell_type": "markdown",
   "id": "1d0e8809-d71f-41f4-8099-2079fa032e23",
   "metadata": {},
   "source": [
    "### *Data Cleaning and Preprocessing*"
   ]
  },
  {
   "cell_type": "code",
   "execution_count": 20,
   "id": "1c6ad258-20d4-45f0-b5c3-22c84ca3f24e",
   "metadata": {},
   "outputs": [
    {
     "data": {
      "text/html": [
       "<div>\n",
       "<style scoped>\n",
       "    .dataframe tbody tr th:only-of-type {\n",
       "        vertical-align: middle;\n",
       "    }\n",
       "\n",
       "    .dataframe tbody tr th {\n",
       "        vertical-align: top;\n",
       "    }\n",
       "\n",
       "    .dataframe thead th {\n",
       "        text-align: right;\n",
       "    }\n",
       "</style>\n",
       "<table border=\"1\" class=\"dataframe\">\n",
       "  <thead>\n",
       "    <tr style=\"text-align: right;\">\n",
       "      <th></th>\n",
       "      <th>Airline</th>\n",
       "      <th>Date_of_Journey</th>\n",
       "      <th>Source</th>\n",
       "      <th>Destination</th>\n",
       "      <th>Route</th>\n",
       "      <th>Dep_Time</th>\n",
       "      <th>Arrival_Time</th>\n",
       "      <th>Duration</th>\n",
       "      <th>Total_Stops</th>\n",
       "      <th>Additional_Info</th>\n",
       "      <th>Price</th>\n",
       "    </tr>\n",
       "  </thead>\n",
       "  <tbody>\n",
       "    <tr>\n",
       "      <th>9039</th>\n",
       "      <td>Air India</td>\n",
       "      <td>6/05/2019</td>\n",
       "      <td>Delhi</td>\n",
       "      <td>Cochin</td>\n",
       "      <td>NaN</td>\n",
       "      <td>09:45</td>\n",
       "      <td>09:25 07 May</td>\n",
       "      <td>23h 40m</td>\n",
       "      <td>NaN</td>\n",
       "      <td>No info</td>\n",
       "      <td>7480</td>\n",
       "    </tr>\n",
       "  </tbody>\n",
       "</table>\n",
       "</div>"
      ],
      "text/plain": [
       "        Airline Date_of_Journey Source Destination Route Dep_Time  \\\n",
       "9039  Air India       6/05/2019  Delhi      Cochin   NaN    09:45   \n",
       "\n",
       "      Arrival_Time Duration Total_Stops Additional_Info  Price  \n",
       "9039  09:25 07 May  23h 40m         NaN         No info   7480  "
      ]
     },
     "execution_count": 20,
     "metadata": {},
     "output_type": "execute_result"
    }
   ],
   "source": [
    "#display the row , where total stop is nan, so that we can replace that nan value\n",
    "df[df['Total_Stops'].isnull()]"
   ]
  },
  {
   "cell_type": "markdown",
   "id": "21cd4388-3fef-4f7f-9a66-b35519490f54",
   "metadata": {},
   "source": [
    "Missing value of \"Route\" and \"Total stops\" belongs to Air India Airline"
   ]
  },
  {
   "cell_type": "code",
   "execution_count": 21,
   "id": "40cdcb56-a07f-486b-af55-4f0e93997df4",
   "metadata": {},
   "outputs": [
    {
     "data": {
      "text/plain": [
       "array(['IndiGo', 'Air India', 'Jet Airways', 'SpiceJet',\n",
       "       'Multiple carriers', 'GoAir', 'Vistara', 'Air Asia',\n",
       "       'Vistara Premium economy', 'Jet Airways Business',\n",
       "       'Multiple carriers Premium economy', 'Trujet'], dtype=object)"
      ]
     },
     "execution_count": 21,
     "metadata": {},
     "output_type": "execute_result"
    }
   ],
   "source": [
    "df.Airline.unique()"
   ]
  },
  {
   "cell_type": "markdown",
   "id": "37b3cb29-52e5-48fa-a056-adc614bea680",
   "metadata": {},
   "source": [
    "We have noticed each airline is subdivided into two different parts"
   ]
  },
  {
   "cell_type": "code",
   "execution_count": 205,
   "id": "d2ccd8b5-5f3c-4ade-a827-d27c8935c99c",
   "metadata": {},
   "outputs": [],
   "source": [
    "#working with the copy of the original dataset\n",
    "df_A = df.copy()"
   ]
  },
  {
   "cell_type": "code",
   "execution_count": 134,
   "id": "f5138bfe-8be0-4b71-9467-33efef537f64",
   "metadata": {},
   "outputs": [],
   "source": [
    "#We will combine the 'two-parts' airlines to make our categorical features more consistent with the rest of the variables\n",
    "df_A['Airline'] = np.where(df_A['Airline'] == \"Jet Airways Business\", \"Jet Airways\", df_A['Airline'])\n",
    "df_A['Airline'] = np.where(df_A['Airline'] == \"Multiple carriers Premium economy\", \"Multiple carriers\", df_A['Airline'])\n",
    "df_A['Airline'] = np.where(df_A['Airline'] == \"Vistara Premium economy\", \"Vistara\", df_A['Airline'])"
   ]
  },
  {
   "cell_type": "code",
   "execution_count": 206,
   "id": "cff4169b-843c-4325-8e6a-0fcca693a05d",
   "metadata": {},
   "outputs": [
    {
     "data": {
      "text/plain": [
       "['non-stop', '2 stops', '1 stop', '3 stops', nan, '4 stops']"
      ]
     },
     "execution_count": 206,
     "metadata": {},
     "output_type": "execute_result"
    }
   ],
   "source": [
    "#converting \"Total_stops\" into a numeric column\n",
    "df_A.Total_Stops.unique().tolist()"
   ]
  },
  {
   "cell_type": "code",
   "execution_count": 207,
   "id": "08893682-38ff-49ba-af09-fbbb5a9cd8c1",
   "metadata": {},
   "outputs": [
    {
     "name": "stderr",
     "output_type": "stream",
     "text": [
      "C:\\Users\\NAYANIKA\\AppData\\Local\\Temp\\ipykernel_7684\\492365852.py:1: FutureWarning: Downcasting behavior in `replace` is deprecated and will be removed in a future version. To retain the old behavior, explicitly call `result.infer_objects(copy=False)`. To opt-in to the future behavior, set `pd.set_option('future.no_silent_downcasting', True)`\n",
      "  df_A.replace({\"non-stop\": 0, \"1 stop\": 1, \"2 stops\": 2, \"3 stops\": 3, \"4 stops\": 4}, inplace = True)\n"
     ]
    }
   ],
   "source": [
    "df_A.replace({\"non-stop\": 0, \"1 stop\": 1, \"2 stops\": 2, \"3 stops\": 3, \"4 stops\": 4}, inplace = True)"
   ]
  },
  {
   "cell_type": "code",
   "execution_count": 208,
   "id": "a4966377-9fec-43f7-b241-7da7cb5beb2f",
   "metadata": {},
   "outputs": [
    {
     "data": {
      "text/html": [
       "<div>\n",
       "<style scoped>\n",
       "    .dataframe tbody tr th:only-of-type {\n",
       "        vertical-align: middle;\n",
       "    }\n",
       "\n",
       "    .dataframe tbody tr th {\n",
       "        vertical-align: top;\n",
       "    }\n",
       "\n",
       "    .dataframe thead th {\n",
       "        text-align: right;\n",
       "    }\n",
       "</style>\n",
       "<table border=\"1\" class=\"dataframe\">\n",
       "  <thead>\n",
       "    <tr style=\"text-align: right;\">\n",
       "      <th></th>\n",
       "      <th>Total_Stops</th>\n",
       "    </tr>\n",
       "    <tr>\n",
       "      <th>Airline</th>\n",
       "      <th></th>\n",
       "    </tr>\n",
       "  </thead>\n",
       "  <tbody>\n",
       "    <tr>\n",
       "      <th>Air Asia</th>\n",
       "      <td>0.0</td>\n",
       "    </tr>\n",
       "    <tr>\n",
       "      <th>Air India</th>\n",
       "      <td>2.0</td>\n",
       "    </tr>\n",
       "    <tr>\n",
       "      <th>GoAir</th>\n",
       "      <td>1.0</td>\n",
       "    </tr>\n",
       "    <tr>\n",
       "      <th>IndiGo</th>\n",
       "      <td>0.0</td>\n",
       "    </tr>\n",
       "    <tr>\n",
       "      <th>Jet Airways</th>\n",
       "      <td>1.0</td>\n",
       "    </tr>\n",
       "    <tr>\n",
       "      <th>Jet Airways Business</th>\n",
       "      <td>1.0</td>\n",
       "    </tr>\n",
       "    <tr>\n",
       "      <th>Multiple carriers</th>\n",
       "      <td>1.0</td>\n",
       "    </tr>\n",
       "    <tr>\n",
       "      <th>Multiple carriers Premium economy</th>\n",
       "      <td>1.0</td>\n",
       "    </tr>\n",
       "    <tr>\n",
       "      <th>SpiceJet</th>\n",
       "      <td>0.0</td>\n",
       "    </tr>\n",
       "    <tr>\n",
       "      <th>Trujet</th>\n",
       "      <td>1.0</td>\n",
       "    </tr>\n",
       "    <tr>\n",
       "      <th>Vistara</th>\n",
       "      <td>0.0</td>\n",
       "    </tr>\n",
       "    <tr>\n",
       "      <th>Vistara Premium economy</th>\n",
       "      <td>0.0</td>\n",
       "    </tr>\n",
       "  </tbody>\n",
       "</table>\n",
       "</div>"
      ],
      "text/plain": [
       "                                   Total_Stops\n",
       "Airline                                       \n",
       "Air Asia                                   0.0\n",
       "Air India                                  2.0\n",
       "GoAir                                      1.0\n",
       "IndiGo                                     0.0\n",
       "Jet Airways                                1.0\n",
       "Jet Airways Business                       1.0\n",
       "Multiple carriers                          1.0\n",
       "Multiple carriers Premium economy          1.0\n",
       "SpiceJet                                   0.0\n",
       "Trujet                                     1.0\n",
       "Vistara                                    0.0\n",
       "Vistara Premium economy                    0.0"
      ]
     },
     "execution_count": 208,
     "metadata": {},
     "output_type": "execute_result"
    }
   ],
   "source": [
    "df_A.groupby('Airline')['Total_Stops'].agg(pd.Series.mode).to_frame()"
   ]
  },
  {
   "cell_type": "code",
   "execution_count": 209,
   "id": "d9bdcf09-ff2d-44d7-852c-b9aa43c21434",
   "metadata": {},
   "outputs": [
    {
     "name": "stderr",
     "output_type": "stream",
     "text": [
      "C:\\Users\\NAYANIKA\\AppData\\Local\\Temp\\ipykernel_7684\\2687061901.py:2: FutureWarning: A value is trying to be set on a copy of a DataFrame or Series through chained assignment using an inplace method.\n",
      "The behavior will change in pandas 3.0. This inplace method will never work because the intermediate object on which we are setting values always behaves as a copy.\n",
      "\n",
      "For example, when doing 'df[col].method(value, inplace=True)', try using 'df.method({col: value}, inplace=True)' or df[col] = df[col].method(value) instead, to perform the operation inplace on the original object.\n",
      "\n",
      "\n",
      "  df_A['Total_Stops'].replace(np.nan , 2, inplace = True)\n"
     ]
    }
   ],
   "source": [
    "#replacing the nan value of Air india for \"Total_stops\" with the most frequent total stops\n",
    "df_A['Total_Stops'].replace(np.nan , 2, inplace = True)"
   ]
  },
  {
   "cell_type": "markdown",
   "id": "127c526f-f4bf-4a74-b1da-627fab454c4a",
   "metadata": {},
   "source": [
    "#### Feature Transformation"
   ]
  },
  {
   "cell_type": "code",
   "execution_count": 210,
   "id": "5c00572f-76a6-476a-afcb-a68277889d1f",
   "metadata": {},
   "outputs": [],
   "source": [
    "#Converting 'Date_of_Journey', 'Dep_Time', and 'Arrival_Time' to datetime format\n",
    "df_A['Date_of_Journey'] = pd.to_datetime(df_A['Date_of_Journey'], format = \"%d/%m/%Y\")\n"
   ]
  },
  {
   "cell_type": "code",
   "execution_count": 211,
   "id": "dfd1fb3c-80d2-40df-98cb-fac08b4a6269",
   "metadata": {},
   "outputs": [],
   "source": [
    "# Combining 'Date_of_Journey' with 'Dep_Time' (since Dep_Time is time-only)\n",
    "df_A['Dep_Time'] =pd.to_datetime(df_A['Date_of_Journey'].astype(str) + ' ' + df_A['Dep_Time'])"
   ]
  },
  {
   "cell_type": "code",
   "execution_count": 212,
   "id": "655c0b69-4c6b-4ce6-89a6-2baf3deb9aa9",
   "metadata": {},
   "outputs": [],
   "source": [
    "df_A['Dep_Hour'] = df_A['Dep_Time'].dt.hour"
   ]
  },
  {
   "cell_type": "code",
   "execution_count": 213,
   "id": "7da74c01-b306-4c3b-bf33-8eae332a5149",
   "metadata": {},
   "outputs": [],
   "source": [
    "# Function to handle mixed date and time formats in 'Arrival_Time'\n",
    "def convert_arrival_time(arrival, journey_date):\n",
    "    # Check if arrival contains a date (using regex)\n",
    "    if re.search(r'\\d{2} \\w{3}', arrival):\n",
    "        # If it contains a date, parse and set the correct year from 'Date_of_Journey'\n",
    "        parsed_time = pd.to_datetime(arrival, format='%H:%M %d %b', errors='coerce')\n",
    "        return parsed_time.replace(year=journey_date.year)  # Set the correct year from 'Date_of_Journey'\n",
    "    else:\n",
    "        # If it only contains time, combine it with the 'Date_of_Journey'\n",
    "        return pd.to_datetime(journey_date.strftime('%Y-%m-%d') + ' ' + arrival, errors='coerce')"
   ]
  },
  {
   "cell_type": "code",
   "execution_count": 214,
   "id": "ac7dd62a-b080-4cc4-9a89-f2fa24b33845",
   "metadata": {},
   "outputs": [],
   "source": [
    "# Apply the function to convert 'Arrival_Time'\n",
    "df_A['Arrival_Time'] = df_A.apply(lambda row: convert_arrival_time(row['Arrival_Time'], row['Date_of_Journey']), axis=1)"
   ]
  },
  {
   "cell_type": "code",
   "execution_count": 215,
   "id": "41c1a9c6-1432-4d8c-847f-8c7230d160d7",
   "metadata": {},
   "outputs": [],
   "source": [
    "df_A['Arrival_Hour'] = df_A['Arrival_Time'].dt.hour"
   ]
  },
  {
   "cell_type": "code",
   "execution_count": 216,
   "id": "92de0caf-2627-45cb-9aa0-c5d545d84ea4",
   "metadata": {},
   "outputs": [],
   "source": [
    "df_A['Duration_Day_Time'] = df_A['Arrival_Time'] - df_A['Dep_Time']"
   ]
  },
  {
   "cell_type": "code",
   "execution_count": 217,
   "id": "10b7687f-3441-4c50-8907-7d1e852807f0",
   "metadata": {},
   "outputs": [
    {
     "name": "stderr",
     "output_type": "stream",
     "text": [
      "C:\\Users\\NAYANIKA\\AppData\\Local\\Temp\\ipykernel_7684\\1103671046.py:2: UserWarning: Could not infer format, so each element will be parsed individually, falling back to `dateutil`. To ensure parsing is consistent and as-expected, please specify a format.\n",
      "  df_A['Duration_Time'] = pd.to_datetime(df_A['Duration_Day_Time'].apply(lambda x: f\"{x.components.hours:02}:{x.components.minutes:02}:{x.components.seconds:02}\"))\n"
     ]
    }
   ],
   "source": [
    "#taking only hour, minute and seconds from duration_day_time, and converting them datetime format for easier analysis\n",
    "df_A['Duration_Time'] = pd.to_datetime(df_A['Duration_Day_Time'].apply(lambda x: f\"{x.components.hours:02}:{x.components.minutes:02}:{x.components.seconds:02}\"))"
   ]
  },
  {
   "cell_type": "code",
   "execution_count": 218,
   "id": "7b9cf2b4-847a-4e30-9ae5-659d9d59afa0",
   "metadata": {},
   "outputs": [],
   "source": [
    "df_A['Duration_HoursInMins']=(df_A['Duration_Time'].dt.hour)*60"
   ]
  },
  {
   "cell_type": "code",
   "execution_count": 219,
   "id": "1a652edf-472a-409f-b03e-8af14433c139",
   "metadata": {},
   "outputs": [],
   "source": [
    "df_A['Duration_TotalInMins'] = (df_A['Duration_Time'].dt.minute)+df_A['Duration_HoursInMins']"
   ]
  },
  {
   "cell_type": "markdown",
   "id": "c19c8286-340d-487f-aa7b-27c9d5256388",
   "metadata": {},
   "source": [
    "#### Splitting 'Departure/Arrival_Time' into Time Zones"
   ]
  },
  {
   "cell_type": "code",
   "execution_count": 220,
   "id": "bef2ebba-bda5-4d31-bb8e-0b2c36981e46",
   "metadata": {},
   "outputs": [],
   "source": [
    "df_A['Dep_timezone'] = pd.cut(df_A.Dep_Hour, [0,6,12,18,24], labels=['Night','Morning','Afternoon','Evening'])"
   ]
  },
  {
   "cell_type": "code",
   "execution_count": 221,
   "id": "a64b4196-a938-4f26-92a5-9fbc6f1bd969",
   "metadata": {},
   "outputs": [],
   "source": [
    "df_A['Arrival_timezone'] = pd.cut(df_A.Arrival_Hour, [0,6,12,18,24], labels=['Night','Morning','Afternoon','Evening'])"
   ]
  },
  {
   "cell_type": "markdown",
   "id": "92e6a20c-a470-4456-9053-261895aa1b90",
   "metadata": {},
   "source": [
    "#### Categorical Encoding"
   ]
  },
  {
   "cell_type": "code",
   "execution_count": 222,
   "id": "64390edb-a781-4006-b8cd-7d9de53eb230",
   "metadata": {},
   "outputs": [],
   "source": [
    "#One_hot_encoding\n",
    "dummies = pd.get_dummies(df_A[['Airline', 'Source', 'Destination']], prefix=['Airline', 'Source', 'Destination'])"
   ]
  },
  {
   "cell_type": "code",
   "execution_count": 224,
   "id": "fb7f8868-b3e4-4e01-b739-6808581c7b86",
   "metadata": {},
   "outputs": [],
   "source": [
    "df_encoded = pd.concat([df_A, dummies], axis=1)"
   ]
  },
  {
   "cell_type": "code",
   "execution_count": 226,
   "id": "f2faa2c9-59f1-4d50-b65d-4136d296f097",
   "metadata": {},
   "outputs": [
    {
     "name": "stdout",
     "output_type": "stream",
     "text": [
      "<class 'pandas.core.frame.DataFrame'>\n",
      "RangeIndex: 10683 entries, 0 to 10682\n",
      "Data columns (total 42 columns):\n",
      " #   Column                                     Non-Null Count  Dtype          \n",
      "---  ------                                     --------------  -----          \n",
      " 0   Airline                                    10683 non-null  object         \n",
      " 1   Date_of_Journey                            10683 non-null  datetime64[ns] \n",
      " 2   Source                                     10683 non-null  object         \n",
      " 3   Destination                                10683 non-null  object         \n",
      " 4   Route                                      10682 non-null  object         \n",
      " 5   Dep_Time                                   10683 non-null  datetime64[ns] \n",
      " 6   Arrival_Time                               10683 non-null  datetime64[ns] \n",
      " 7   Duration                                   10683 non-null  object         \n",
      " 8   Total_Stops                                10683 non-null  float64        \n",
      " 9   Additional_Info                            10683 non-null  object         \n",
      " 10  Price                                      10683 non-null  int64          \n",
      " 11  Dep_Hour                                   10683 non-null  int32          \n",
      " 12  Arrival_Hour                               10683 non-null  int32          \n",
      " 13  Duration_Day_Time                          10683 non-null  timedelta64[ns]\n",
      " 14  Duration_Time                              10683 non-null  datetime64[ns] \n",
      " 15  Duration_HoursInMins                       10683 non-null  int32          \n",
      " 16  Duration_TotalInMins                       10683 non-null  int32          \n",
      " 17  Dep_timezone                               10643 non-null  category       \n",
      " 18  Arrival_timezone                           10361 non-null  category       \n",
      " 19  Airline_Air Asia                           10683 non-null  bool           \n",
      " 20  Airline_Air India                          10683 non-null  bool           \n",
      " 21  Airline_GoAir                              10683 non-null  bool           \n",
      " 22  Airline_IndiGo                             10683 non-null  bool           \n",
      " 23  Airline_Jet Airways                        10683 non-null  bool           \n",
      " 24  Airline_Jet Airways Business               10683 non-null  bool           \n",
      " 25  Airline_Multiple carriers                  10683 non-null  bool           \n",
      " 26  Airline_Multiple carriers Premium economy  10683 non-null  bool           \n",
      " 27  Airline_SpiceJet                           10683 non-null  bool           \n",
      " 28  Airline_Trujet                             10683 non-null  bool           \n",
      " 29  Airline_Vistara                            10683 non-null  bool           \n",
      " 30  Airline_Vistara Premium economy            10683 non-null  bool           \n",
      " 31  Source_Banglore                            10683 non-null  bool           \n",
      " 32  Source_Chennai                             10683 non-null  bool           \n",
      " 33  Source_Delhi                               10683 non-null  bool           \n",
      " 34  Source_Kolkata                             10683 non-null  bool           \n",
      " 35  Source_Mumbai                              10683 non-null  bool           \n",
      " 36  Destination_Banglore                       10683 non-null  bool           \n",
      " 37  Destination_Cochin                         10683 non-null  bool           \n",
      " 38  Destination_Delhi                          10683 non-null  bool           \n",
      " 39  Destination_Hyderabad                      10683 non-null  bool           \n",
      " 40  Destination_Kolkata                        10683 non-null  bool           \n",
      " 41  Destination_New Delhi                      10683 non-null  bool           \n",
      "dtypes: bool(23), category(2), datetime64[ns](4), float64(1), int32(4), int64(1), object(6), timedelta64[ns](1)\n",
      "memory usage: 1.5+ MB\n"
     ]
    }
   ],
   "source": [
    "df_encoded.info()"
   ]
  },
  {
   "cell_type": "code",
   "execution_count": null,
   "id": "397c42da-5270-43e7-8b8f-c0865f292949",
   "metadata": {},
   "outputs": [],
   "source": []
  }
 ],
 "metadata": {
  "kernelspec": {
   "display_name": "Python 3 (ipykernel)",
   "language": "python",
   "name": "python3"
  },
  "language_info": {
   "codemirror_mode": {
    "name": "ipython",
    "version": 3
   },
   "file_extension": ".py",
   "mimetype": "text/x-python",
   "name": "python",
   "nbconvert_exporter": "python",
   "pygments_lexer": "ipython3",
   "version": "3.10.10"
  }
 },
 "nbformat": 4,
 "nbformat_minor": 5
}
